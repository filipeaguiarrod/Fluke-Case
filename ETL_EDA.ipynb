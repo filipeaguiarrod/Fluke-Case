{
 "cells": [
  {
   "cell_type": "markdown",
   "metadata": {},
   "source": [
    "## Bibliotecas"
   ]
  },
  {
   "cell_type": "code",
   "execution_count": 224,
   "metadata": {},
   "outputs": [],
   "source": [
    "import numpy as np\n",
    "import pandas as pd\n",
    "import seaborn as sns\n",
    "import missingno as msno\n",
    "import matplotlib.pyplot as plt\n",
    "import datetime as dt"
   ]
  },
  {
   "cell_type": "markdown",
   "metadata": {},
   "source": [
    "## 1º Df - Customers"
   ]
  },
  {
   "cell_type": "code",
   "execution_count": 225,
   "metadata": {},
   "outputs": [],
   "source": [
    "df = pd.read_csv('customers_case.csv')"
   ]
  },
  {
   "cell_type": "code",
   "execution_count": 226,
   "metadata": {},
   "outputs": [
    {
     "data": {
      "text/html": [
       "<div>\n",
       "<style scoped>\n",
       "    .dataframe tbody tr th:only-of-type {\n",
       "        vertical-align: middle;\n",
       "    }\n",
       "\n",
       "    .dataframe tbody tr th {\n",
       "        vertical-align: top;\n",
       "    }\n",
       "\n",
       "    .dataframe thead th {\n",
       "        text-align: right;\n",
       "    }\n",
       "</style>\n",
       "<table border=\"1\" class=\"dataframe\">\n",
       "  <thead>\n",
       "    <tr style=\"text-align: right;\">\n",
       "      <th></th>\n",
       "      <th>uid</th>\n",
       "      <th>gender</th>\n",
       "      <th>status</th>\n",
       "      <th>statusUpdatedAt</th>\n",
       "      <th>statusPrevious</th>\n",
       "      <th>age</th>\n",
       "      <th>areaCode</th>\n",
       "      <th>state</th>\n",
       "      <th>recurrence</th>\n",
       "      <th>activation date</th>\n",
       "      <th>end portability date</th>\n",
       "      <th>current package</th>\n",
       "    </tr>\n",
       "  </thead>\n",
       "  <tbody>\n",
       "    <tr>\n",
       "      <th>3254</th>\n",
       "      <td>dm1VlUjmTdXcFjLS6jccJuDSBil2</td>\n",
       "      <td>masculino</td>\n",
       "      <td>active</td>\n",
       "      <td>2/21/2021</td>\n",
       "      <td>activationComplete</td>\n",
       "      <td>24</td>\n",
       "      <td>12</td>\n",
       "      <td>SP</td>\n",
       "      <td>monthly</td>\n",
       "      <td>2/21/2021</td>\n",
       "      <td>NaN</td>\n",
       "      <td>madePackage-0</td>\n",
       "    </tr>\n",
       "    <tr>\n",
       "      <th>2302</th>\n",
       "      <td>SFm6rcjpeLZJneJFPQhbq0pfMek1</td>\n",
       "      <td>masculino</td>\n",
       "      <td>active</td>\n",
       "      <td>2/11/2021</td>\n",
       "      <td>processingSubscription</td>\n",
       "      <td>23</td>\n",
       "      <td>62</td>\n",
       "      <td>GO</td>\n",
       "      <td>monthly</td>\n",
       "      <td>11/4/2020</td>\n",
       "      <td>NaN</td>\n",
       "      <td>customPackage</td>\n",
       "    </tr>\n",
       "    <tr>\n",
       "      <th>1796</th>\n",
       "      <td>M00aB1HIXwfbbm6esITdRqOX8xf1</td>\n",
       "      <td>masculino</td>\n",
       "      <td>active</td>\n",
       "      <td>2/10/2021</td>\n",
       "      <td>processingSubscription</td>\n",
       "      <td>34</td>\n",
       "      <td>19</td>\n",
       "      <td>SP</td>\n",
       "      <td>monthly</td>\n",
       "      <td>12/10/2020</td>\n",
       "      <td>NaN</td>\n",
       "      <td>customPackage</td>\n",
       "    </tr>\n",
       "    <tr>\n",
       "      <th>2686</th>\n",
       "      <td>WwY1Z1eEkXRLZW1VyveMCf8wV8c2</td>\n",
       "      <td>masculino</td>\n",
       "      <td>active</td>\n",
       "      <td>3/3/2021</td>\n",
       "      <td>activationComplete</td>\n",
       "      <td>23</td>\n",
       "      <td>11</td>\n",
       "      <td>SP</td>\n",
       "      <td>monthly</td>\n",
       "      <td>3/3/2021</td>\n",
       "      <td>NaN</td>\n",
       "      <td>madePackage-1</td>\n",
       "    </tr>\n",
       "    <tr>\n",
       "      <th>1270</th>\n",
       "      <td>Feqc7mHYffh6bcybbbHn1cEpWp73</td>\n",
       "      <td>masculino</td>\n",
       "      <td>active</td>\n",
       "      <td>2/25/2021</td>\n",
       "      <td>processingSubscription</td>\n",
       "      <td>22</td>\n",
       "      <td>13</td>\n",
       "      <td>SP</td>\n",
       "      <td>monthly</td>\n",
       "      <td>10/27/2020</td>\n",
       "      <td>NaN</td>\n",
       "      <td>customPackage</td>\n",
       "    </tr>\n",
       "    <tr>\n",
       "      <th>4307</th>\n",
       "      <td>q3DIoZWlgCfkInd6k02OGkqxGYh2</td>\n",
       "      <td>masculino</td>\n",
       "      <td>active</td>\n",
       "      <td>2/22/2021</td>\n",
       "      <td>processingSubscription</td>\n",
       "      <td>22</td>\n",
       "      <td>11</td>\n",
       "      <td>SP</td>\n",
       "      <td>monthly</td>\n",
       "      <td>6/9/2020</td>\n",
       "      <td>NaN</td>\n",
       "      <td>customPackage</td>\n",
       "    </tr>\n",
       "    <tr>\n",
       "      <th>2840</th>\n",
       "      <td>Yb0j7rGHFdVRm709QlzjfEnqNdS2</td>\n",
       "      <td>masculino</td>\n",
       "      <td>canceled</td>\n",
       "      <td>12/18/2020</td>\n",
       "      <td>cancelRequested</td>\n",
       "      <td>18</td>\n",
       "      <td>11</td>\n",
       "      <td>SP</td>\n",
       "      <td>weekly</td>\n",
       "      <td>10/26/2020</td>\n",
       "      <td>NaN</td>\n",
       "      <td>customPackage</td>\n",
       "    </tr>\n",
       "    <tr>\n",
       "      <th>2605</th>\n",
       "      <td>VwCwI3DJEZW4VsYgXMPHEHAtsZs2</td>\n",
       "      <td>feminino</td>\n",
       "      <td>paused</td>\n",
       "      <td>3/3/2021</td>\n",
       "      <td>paymentFailedSubscription</td>\n",
       "      <td>19</td>\n",
       "      <td>19</td>\n",
       "      <td>SP</td>\n",
       "      <td>monthly</td>\n",
       "      <td>8/28/2020</td>\n",
       "      <td>NaN</td>\n",
       "      <td>customPackage</td>\n",
       "    </tr>\n",
       "    <tr>\n",
       "      <th>745</th>\n",
       "      <td>9IBvFJ8Ab6ggIbfys5zvi7B5y2B2</td>\n",
       "      <td>feminino</td>\n",
       "      <td>canceled</td>\n",
       "      <td>1/9/2021</td>\n",
       "      <td>cancelRequested</td>\n",
       "      <td>35</td>\n",
       "      <td>19</td>\n",
       "      <td>SP</td>\n",
       "      <td>weekly</td>\n",
       "      <td>9/19/2020</td>\n",
       "      <td>NaN</td>\n",
       "      <td>customPackage</td>\n",
       "    </tr>\n",
       "    <tr>\n",
       "      <th>2776</th>\n",
       "      <td>XxEojwxOHof6CaWEMKAYMKQhOvm2</td>\n",
       "      <td>masculino</td>\n",
       "      <td>active</td>\n",
       "      <td>3/5/2021</td>\n",
       "      <td>processingSubscription</td>\n",
       "      <td>26</td>\n",
       "      <td>11</td>\n",
       "      <td>SP</td>\n",
       "      <td>monthly</td>\n",
       "      <td>2/5/2021</td>\n",
       "      <td>2/10/2021</td>\n",
       "      <td>customPackage</td>\n",
       "    </tr>\n",
       "  </tbody>\n",
       "</table>\n",
       "</div>"
      ],
      "text/plain": [
       "                               uid     gender    status statusUpdatedAt  \\\n",
       "3254  dm1VlUjmTdXcFjLS6jccJuDSBil2  masculino    active       2/21/2021   \n",
       "2302  SFm6rcjpeLZJneJFPQhbq0pfMek1  masculino    active       2/11/2021   \n",
       "1796  M00aB1HIXwfbbm6esITdRqOX8xf1  masculino    active       2/10/2021   \n",
       "2686  WwY1Z1eEkXRLZW1VyveMCf8wV8c2  masculino    active        3/3/2021   \n",
       "1270  Feqc7mHYffh6bcybbbHn1cEpWp73  masculino    active       2/25/2021   \n",
       "4307  q3DIoZWlgCfkInd6k02OGkqxGYh2  masculino    active       2/22/2021   \n",
       "2840  Yb0j7rGHFdVRm709QlzjfEnqNdS2  masculino  canceled      12/18/2020   \n",
       "2605  VwCwI3DJEZW4VsYgXMPHEHAtsZs2   feminino    paused        3/3/2021   \n",
       "745   9IBvFJ8Ab6ggIbfys5zvi7B5y2B2   feminino  canceled        1/9/2021   \n",
       "2776  XxEojwxOHof6CaWEMKAYMKQhOvm2  masculino    active        3/5/2021   \n",
       "\n",
       "                 statusPrevious age  areaCode state recurrence  \\\n",
       "3254         activationComplete  24        12    SP    monthly   \n",
       "2302     processingSubscription  23        62    GO    monthly   \n",
       "1796     processingSubscription  34        19    SP    monthly   \n",
       "2686         activationComplete  23        11    SP    monthly   \n",
       "1270     processingSubscription  22        13    SP    monthly   \n",
       "4307     processingSubscription  22        11    SP    monthly   \n",
       "2840            cancelRequested  18        11    SP     weekly   \n",
       "2605  paymentFailedSubscription  19        19    SP    monthly   \n",
       "745             cancelRequested  35        19    SP     weekly   \n",
       "2776     processingSubscription  26        11    SP    monthly   \n",
       "\n",
       "     activation date end portability date current package  \n",
       "3254       2/21/2021                  NaN   madePackage-0  \n",
       "2302       11/4/2020                  NaN   customPackage  \n",
       "1796      12/10/2020                  NaN   customPackage  \n",
       "2686        3/3/2021                  NaN   madePackage-1  \n",
       "1270      10/27/2020                  NaN   customPackage  \n",
       "4307        6/9/2020                  NaN   customPackage  \n",
       "2840      10/26/2020                  NaN   customPackage  \n",
       "2605       8/28/2020                  NaN   customPackage  \n",
       "745        9/19/2020                  NaN   customPackage  \n",
       "2776        2/5/2021            2/10/2021   customPackage  "
      ]
     },
     "execution_count": 226,
     "metadata": {},
     "output_type": "execute_result"
    }
   ],
   "source": [
    "df.sample(10)"
   ]
  },
  {
   "cell_type": "code",
   "execution_count": 227,
   "metadata": {},
   "outputs": [
    {
     "name": "stdout",
     "output_type": "stream",
     "text": [
      "<class 'pandas.core.frame.DataFrame'>\n",
      "RangeIndex: 5130 entries, 0 to 5129\n",
      "Data columns (total 12 columns):\n",
      " #   Column                Non-Null Count  Dtype \n",
      "---  ------                --------------  ----- \n",
      " 0   uid                   5130 non-null   object\n",
      " 1   gender                5130 non-null   object\n",
      " 2   status                5130 non-null   object\n",
      " 3   statusUpdatedAt       5130 non-null   object\n",
      " 4   statusPrevious        5130 non-null   object\n",
      " 5   age                   5130 non-null   object\n",
      " 6   areaCode              5130 non-null   int64 \n",
      " 7   state                 5130 non-null   object\n",
      " 8   recurrence            5130 non-null   object\n",
      " 9   activation date       5130 non-null   object\n",
      " 10  end portability date  2023 non-null   object\n",
      " 11  current package       5130 non-null   object\n",
      "dtypes: int64(1), object(11)\n",
      "memory usage: 481.1+ KB\n"
     ]
    }
   ],
   "source": [
    "df.info()"
   ]
  },
  {
   "cell_type": "markdown",
   "metadata": {},
   "source": [
    "## Categorizando de forma correta as variáveis:"
   ]
  },
  {
   "cell_type": "code",
   "execution_count": 228,
   "metadata": {},
   "outputs": [],
   "source": [
    "df.columns = df.columns.str.replace(' ', '_')"
   ]
  },
  {
   "cell_type": "code",
   "execution_count": 229,
   "metadata": {},
   "outputs": [
    {
     "data": {
      "text/plain": [
       "Index(['uid', 'gender', 'status', 'statusUpdatedAt', 'statusPrevious', 'age',\n",
       "       'areaCode', 'state', 'recurrence', 'activation_date',\n",
       "       'end_portability_date', 'current_package'],\n",
       "      dtype='object')"
      ]
     },
     "execution_count": 229,
     "metadata": {},
     "output_type": "execute_result"
    }
   ],
   "source": [
    "df.columns"
   ]
  },
  {
   "cell_type": "markdown",
   "metadata": {},
   "source": [
    "### Datas"
   ]
  },
  {
   "cell_type": "code",
   "execution_count": 230,
   "metadata": {},
   "outputs": [],
   "source": [
    "df.statusUpdatedAt  = pd.to_datetime(df.statusUpdatedAt)\n",
    "df.activation_date = pd.to_datetime(df.activation_date)\n",
    "df.end_portability_date = pd.to_datetime(df.end_portability_date)"
   ]
  },
  {
   "cell_type": "markdown",
   "metadata": {},
   "source": [
    "### Nums"
   ]
  },
  {
   "cell_type": "code",
   "execution_count": 231,
   "metadata": {},
   "outputs": [],
   "source": [
    "# Linhas sem valor estão erradas;\n",
    "\n",
    "df.loc[df.age == '#VALOR!'] = np.nan"
   ]
  },
  {
   "cell_type": "code",
   "execution_count": 232,
   "metadata": {},
   "outputs": [
    {
     "name": "stdout",
     "output_type": "stream",
     "text": [
      "<class 'pandas.core.frame.DataFrame'>\n",
      "RangeIndex: 5130 entries, 0 to 5129\n",
      "Data columns (total 12 columns):\n",
      " #   Column                Non-Null Count  Dtype         \n",
      "---  ------                --------------  -----         \n",
      " 0   uid                   5129 non-null   object        \n",
      " 1   gender                5129 non-null   object        \n",
      " 2   status                5129 non-null   object        \n",
      " 3   statusUpdatedAt       5129 non-null   datetime64[ns]\n",
      " 4   statusPrevious        5129 non-null   object        \n",
      " 5   age                   5129 non-null   object        \n",
      " 6   areaCode              5129 non-null   float64       \n",
      " 7   state                 5129 non-null   object        \n",
      " 8   recurrence            5129 non-null   object        \n",
      " 9   activation_date       5129 non-null   datetime64[ns]\n",
      " 10  end_portability_date  2023 non-null   datetime64[ns]\n",
      " 11  current_package       5129 non-null   object        \n",
      "dtypes: datetime64[ns](3), float64(1), object(8)\n",
      "memory usage: 481.1+ KB\n"
     ]
    }
   ],
   "source": [
    "df.info()"
   ]
  },
  {
   "cell_type": "markdown",
   "metadata": {},
   "source": [
    "## Valores Nulos"
   ]
  },
  {
   "cell_type": "code",
   "execution_count": 233,
   "metadata": {},
   "outputs": [
    {
     "data": {
      "text/plain": [
       "<AxesSubplot:>"
      ]
     },
     "execution_count": 233,
     "metadata": {},
     "output_type": "execute_result"
    },
    {
     "data": {
      "image/png": "[encoded data removed]",
      "text/plain": [
       "<Figure size 1800x720 with 2 Axes>"
      ]
     },
     "metadata": {
      "needs_background": "light"
     },
     "output_type": "display_data"
    }
   ],
   "source": [
    "msno.matrix(df)"
   ]
  },
  {
   "cell_type": "code",
   "execution_count": 234,
   "metadata": {},
   "outputs": [
    {
     "data": {
      "text/plain": [
       "processingSubscription       2308\n",
       "cancelRequested               969\n",
       "activationComplete            568\n",
       "paymentFailedSubscription     544\n",
       "paused                        350\n",
       "active                        291\n",
       "canceled                       72\n",
       "activation                     21\n",
       "processingTopUp                 6\n",
       "Name: statusPrevious, dtype: int64"
      ]
     },
     "execution_count": 234,
     "metadata": {},
     "output_type": "execute_result"
    }
   ],
   "source": [
    "df.statusPrevious.value_counts()"
   ]
  },
  {
   "cell_type": "code",
   "execution_count": 235,
   "metadata": {},
   "outputs": [
    {
     "data": {
      "image/png": "[encoded data removed]",
      "text/plain": [
       "<Figure size 720x720 with 1 Axes>"
      ]
     },
     "metadata": {
      "needs_background": "light"
     },
     "output_type": "display_data"
    }
   ],
   "source": [
    "fig = plt.subplots( figsize=(10, 10))\n",
    "sns.barplot(x=df['statusPrevious'].value_counts().head(10).index ,y = df['statusPrevious'].value_counts().head(10)).set_title('Picture of clients status');\n",
    "plt.xticks(rotation=90);"
   ]
  },
  {
   "cell_type": "markdown",
   "metadata": {},
   "source": [
    "**Estão em churn: cancelRequested | paymentFailedSubscription | paused | canceled**"
   ]
  },
  {
   "cell_type": "markdown",
   "metadata": {},
   "source": [
    "### Qual é meu dataframe que possui os casos de Churn ? "
   ]
  },
  {
   "cell_type": "code",
   "execution_count": 236,
   "metadata": {},
   "outputs": [
    {
     "data": {
      "text/html": [
       "<div>\n",
       "<style scoped>\n",
       "    .dataframe tbody tr th:only-of-type {\n",
       "        vertical-align: middle;\n",
       "    }\n",
       "\n",
       "    .dataframe tbody tr th {\n",
       "        vertical-align: top;\n",
       "    }\n",
       "\n",
       "    .dataframe thead th {\n",
       "        text-align: right;\n",
       "    }\n",
       "</style>\n",
       "<table border=\"1\" class=\"dataframe\">\n",
       "  <thead>\n",
       "    <tr style=\"text-align: right;\">\n",
       "      <th></th>\n",
       "      <th>uid</th>\n",
       "      <th>gender</th>\n",
       "      <th>status</th>\n",
       "      <th>statusUpdatedAt</th>\n",
       "      <th>statusPrevious</th>\n",
       "      <th>age</th>\n",
       "      <th>areaCode</th>\n",
       "      <th>state</th>\n",
       "      <th>recurrence</th>\n",
       "      <th>activation_date</th>\n",
       "      <th>end_portability_date</th>\n",
       "      <th>current_package</th>\n",
       "    </tr>\n",
       "  </thead>\n",
       "  <tbody>\n",
       "    <tr>\n",
       "      <th>0</th>\n",
       "      <td>00AJmuB7JTe5qJJuG99sLHthmVX2</td>\n",
       "      <td>masculino</td>\n",
       "      <td>paused</td>\n",
       "      <td>2021-02-14</td>\n",
       "      <td>paymentFailedSubscription</td>\n",
       "      <td>27</td>\n",
       "      <td>17.0</td>\n",
       "      <td>SP</td>\n",
       "      <td>monthly</td>\n",
       "      <td>2020-12-12</td>\n",
       "      <td>2020-12-16</td>\n",
       "      <td>customPackage</td>\n",
       "    </tr>\n",
       "    <tr>\n",
       "      <th>2</th>\n",
       "      <td>01zSzL2oaLYLVlsHeHFyiVyyvf82</td>\n",
       "      <td>masculino</td>\n",
       "      <td>canceled</td>\n",
       "      <td>2021-02-21</td>\n",
       "      <td>cancelRequested</td>\n",
       "      <td>54</td>\n",
       "      <td>11.0</td>\n",
       "      <td>SP</td>\n",
       "      <td>weekly</td>\n",
       "      <td>2020-10-23</td>\n",
       "      <td>NaT</td>\n",
       "      <td>customPackage</td>\n",
       "    </tr>\n",
       "    <tr>\n",
       "      <th>6</th>\n",
       "      <td>02N1mXy2jWVv29wMwo3j3D9NRTM2</td>\n",
       "      <td>masculino</td>\n",
       "      <td>paused</td>\n",
       "      <td>2021-02-01</td>\n",
       "      <td>paymentFailedSubscription</td>\n",
       "      <td>35</td>\n",
       "      <td>19.0</td>\n",
       "      <td>SP</td>\n",
       "      <td>monthly</td>\n",
       "      <td>2020-12-29</td>\n",
       "      <td>2021-01-05</td>\n",
       "      <td>customPackage</td>\n",
       "    </tr>\n",
       "    <tr>\n",
       "      <th>8</th>\n",
       "      <td>03bpVdZNj2fNooC4QW2pZ5KgHyx1</td>\n",
       "      <td>masculino</td>\n",
       "      <td>paused</td>\n",
       "      <td>2021-02-03</td>\n",
       "      <td>paused</td>\n",
       "      <td>25</td>\n",
       "      <td>18.0</td>\n",
       "      <td>SP</td>\n",
       "      <td>weekly</td>\n",
       "      <td>2020-09-25</td>\n",
       "      <td>2020-10-01</td>\n",
       "      <td>customPackage</td>\n",
       "    </tr>\n",
       "    <tr>\n",
       "      <th>13</th>\n",
       "      <td>05Vyqxi1cgYtIbJL85B6iinxhn22</td>\n",
       "      <td>masculino</td>\n",
       "      <td>paused</td>\n",
       "      <td>2021-02-15</td>\n",
       "      <td>paymentFailedSubscription</td>\n",
       "      <td>26</td>\n",
       "      <td>31.0</td>\n",
       "      <td>MG</td>\n",
       "      <td>weekly</td>\n",
       "      <td>2021-01-29</td>\n",
       "      <td>NaT</td>\n",
       "      <td>customPackage</td>\n",
       "    </tr>\n",
       "    <tr>\n",
       "      <th>...</th>\n",
       "      <td>...</td>\n",
       "      <td>...</td>\n",
       "      <td>...</td>\n",
       "      <td>...</td>\n",
       "      <td>...</td>\n",
       "      <td>...</td>\n",
       "      <td>...</td>\n",
       "      <td>...</td>\n",
       "      <td>...</td>\n",
       "      <td>...</td>\n",
       "      <td>...</td>\n",
       "      <td>...</td>\n",
       "    </tr>\n",
       "    <tr>\n",
       "      <th>5122</th>\n",
       "      <td>zxxUzkkF1Kbbn1bW69tPvv5G41f2</td>\n",
       "      <td>prefiro não dizer</td>\n",
       "      <td>canceled</td>\n",
       "      <td>2020-12-18</td>\n",
       "      <td>cancelRequested</td>\n",
       "      <td>24</td>\n",
       "      <td>11.0</td>\n",
       "      <td>SP</td>\n",
       "      <td>weekly</td>\n",
       "      <td>2020-07-06</td>\n",
       "      <td>NaT</td>\n",
       "      <td>customPackage</td>\n",
       "    </tr>\n",
       "    <tr>\n",
       "      <th>5124</th>\n",
       "      <td>zyMEhG8lLJaYS9ZUzGkgWPASwyE2</td>\n",
       "      <td>masculino</td>\n",
       "      <td>paused</td>\n",
       "      <td>2021-02-01</td>\n",
       "      <td>paymentFailedSubscription</td>\n",
       "      <td>23</td>\n",
       "      <td>11.0</td>\n",
       "      <td>SP</td>\n",
       "      <td>weekly</td>\n",
       "      <td>2021-01-22</td>\n",
       "      <td>2021-01-28</td>\n",
       "      <td>customPackage</td>\n",
       "    </tr>\n",
       "    <tr>\n",
       "      <th>5125</th>\n",
       "      <td>zyfDr6lTjbcFcU2mlypXQGsM1L22</td>\n",
       "      <td>masculino</td>\n",
       "      <td>canceled</td>\n",
       "      <td>2020-08-18</td>\n",
       "      <td>paymentFailedSubscription</td>\n",
       "      <td>29</td>\n",
       "      <td>18.0</td>\n",
       "      <td>SP</td>\n",
       "      <td>weekly</td>\n",
       "      <td>2020-08-07</td>\n",
       "      <td>NaT</td>\n",
       "      <td>customPackage</td>\n",
       "    </tr>\n",
       "    <tr>\n",
       "      <th>5126</th>\n",
       "      <td>zyzQJ3ozO1bx8Hl4qDBj9tnMPEj2</td>\n",
       "      <td>masculino</td>\n",
       "      <td>paused</td>\n",
       "      <td>2021-01-15</td>\n",
       "      <td>canceled</td>\n",
       "      <td>37</td>\n",
       "      <td>19.0</td>\n",
       "      <td>SP</td>\n",
       "      <td>monthly</td>\n",
       "      <td>2020-11-13</td>\n",
       "      <td>2020-11-18</td>\n",
       "      <td>customPackage</td>\n",
       "    </tr>\n",
       "    <tr>\n",
       "      <th>5128</th>\n",
       "      <td>zzYJppnOl2aSIiDNdbo6iCrN9i13</td>\n",
       "      <td>masculino</td>\n",
       "      <td>canceled</td>\n",
       "      <td>2020-12-18</td>\n",
       "      <td>cancelRequested</td>\n",
       "      <td>25</td>\n",
       "      <td>13.0</td>\n",
       "      <td>SP</td>\n",
       "      <td>monthly</td>\n",
       "      <td>2020-10-19</td>\n",
       "      <td>2020-10-23</td>\n",
       "      <td>customPackage</td>\n",
       "    </tr>\n",
       "  </tbody>\n",
       "</table>\n",
       "<p>1935 rows × 12 columns</p>\n",
       "</div>"
      ],
      "text/plain": [
       "                               uid             gender    status  \\\n",
       "0     00AJmuB7JTe5qJJuG99sLHthmVX2          masculino    paused   \n",
       "2     01zSzL2oaLYLVlsHeHFyiVyyvf82          masculino  canceled   \n",
       "6     02N1mXy2jWVv29wMwo3j3D9NRTM2          masculino    paused   \n",
       "8     03bpVdZNj2fNooC4QW2pZ5KgHyx1          masculino    paused   \n",
       "13    05Vyqxi1cgYtIbJL85B6iinxhn22          masculino    paused   \n",
       "...                            ...                ...       ...   \n",
       "5122  zxxUzkkF1Kbbn1bW69tPvv5G41f2  prefiro não dizer  canceled   \n",
       "5124  zyMEhG8lLJaYS9ZUzGkgWPASwyE2          masculino    paused   \n",
       "5125  zyfDr6lTjbcFcU2mlypXQGsM1L22          masculino  canceled   \n",
       "5126  zyzQJ3ozO1bx8Hl4qDBj9tnMPEj2          masculino    paused   \n",
       "5128  zzYJppnOl2aSIiDNdbo6iCrN9i13          masculino  canceled   \n",
       "\n",
       "     statusUpdatedAt             statusPrevious age  areaCode state  \\\n",
       "0         2021-02-14  paymentFailedSubscription  27      17.0    SP   \n",
       "2         2021-02-21            cancelRequested  54      11.0    SP   \n",
       "6         2021-02-01  paymentFailedSubscription  35      19.0    SP   \n",
       "8         2021-02-03                     paused  25      18.0    SP   \n",
       "13        2021-02-15  paymentFailedSubscription  26      31.0    MG   \n",
       "...              ...                        ...  ..       ...   ...   \n",
       "5122      2020-12-18            cancelRequested  24      11.0    SP   \n",
       "5124      2021-02-01  paymentFailedSubscription  23      11.0    SP   \n",
       "5125      2020-08-18  paymentFailedSubscription  29      18.0    SP   \n",
       "5126      2021-01-15                   canceled  37      19.0    SP   \n",
       "5128      2020-12-18            cancelRequested  25      13.0    SP   \n",
       "\n",
       "     recurrence activation_date end_portability_date current_package  \n",
       "0       monthly      2020-12-12           2020-12-16   customPackage  \n",
       "2        weekly      2020-10-23                  NaT   customPackage  \n",
       "6       monthly      2020-12-29           2021-01-05   customPackage  \n",
       "8        weekly      2020-09-25           2020-10-01   customPackage  \n",
       "13       weekly      2021-01-29                  NaT   customPackage  \n",
       "...         ...             ...                  ...             ...  \n",
       "5122     weekly      2020-07-06                  NaT   customPackage  \n",
       "5124     weekly      2021-01-22           2021-01-28   customPackage  \n",
       "5125     weekly      2020-08-07                  NaT   customPackage  \n",
       "5126    monthly      2020-11-13           2020-11-18   customPackage  \n",
       "5128    monthly      2020-10-19           2020-10-23   customPackage  \n",
       "\n",
       "[1935 rows x 12 columns]"
      ]
     },
     "execution_count": 236,
     "metadata": {},
     "output_type": "execute_result"
    }
   ],
   "source": [
    "df.loc[df['statusPrevious'].isin(['cancelRequested','paymentFailedSubscription','paused','canceled'])]"
   ]
  },
  {
   "cell_type": "code",
   "execution_count": 237,
   "metadata": {},
   "outputs": [],
   "source": [
    "df['clients_duration']=np.nan"
   ]
  },
  {
   "cell_type": "code",
   "execution_count": 238,
   "metadata": {},
   "outputs": [
    {
     "name": "stderr",
     "output_type": "stream",
     "text": [
      "C:\\Users\\rodri\\anaconda3\\lib\\site-packages\\pandas\\core\\indexing.py:1637: SettingWithCopyWarning: \n",
      "A value is trying to be set on a copy of a slice from a DataFrame\n",
      "\n",
      "See the caveats in the documentation: https://pandas.pydata.org/pandas-docs/stable/user_guide/indexing.html#returning-a-view-versus-a-copy\n",
      "  self._setitem_single_block(indexer, value, name)\n"
     ]
    }
   ],
   "source": [
    "df['clients_duration'].loc[df['statusPrevious'].isin(['cancelRequested','paymentFailedSubscription','paused','canceled'])] = (df.statusUpdatedAt.dt.year - df.activation_date.dt.year) * 12 + (df.statusUpdatedAt.dt.month - df.activation_date.dt.month)"
   ]
  },
  {
   "cell_type": "code",
   "execution_count": 239,
   "metadata": {},
   "outputs": [
    {
     "data": {
      "text/html": [
       "<div>\n",
       "<style scoped>\n",
       "    .dataframe tbody tr th:only-of-type {\n",
       "        vertical-align: middle;\n",
       "    }\n",
       "\n",
       "    .dataframe tbody tr th {\n",
       "        vertical-align: top;\n",
       "    }\n",
       "\n",
       "    .dataframe thead th {\n",
       "        text-align: right;\n",
       "    }\n",
       "</style>\n",
       "<table border=\"1\" class=\"dataframe\">\n",
       "  <thead>\n",
       "    <tr style=\"text-align: right;\">\n",
       "      <th></th>\n",
       "      <th>uid</th>\n",
       "      <th>gender</th>\n",
       "      <th>status</th>\n",
       "      <th>statusUpdatedAt</th>\n",
       "      <th>statusPrevious</th>\n",
       "      <th>age</th>\n",
       "      <th>areaCode</th>\n",
       "      <th>state</th>\n",
       "      <th>recurrence</th>\n",
       "      <th>activation_date</th>\n",
       "      <th>end_portability_date</th>\n",
       "      <th>current_package</th>\n",
       "      <th>clients_duration</th>\n",
       "    </tr>\n",
       "  </thead>\n",
       "  <tbody>\n",
       "    <tr>\n",
       "      <th>2788</th>\n",
       "      <td>Y6u6YeMxGmOEf3o8qQGjSQvv1pM2</td>\n",
       "      <td>masculino</td>\n",
       "      <td>canceled</td>\n",
       "      <td>2020-12-23</td>\n",
       "      <td>cancelRequested</td>\n",
       "      <td>28</td>\n",
       "      <td>11.0</td>\n",
       "      <td>SP</td>\n",
       "      <td>weekly</td>\n",
       "      <td>2020-08-10</td>\n",
       "      <td>NaT</td>\n",
       "      <td>customPackage</td>\n",
       "      <td>4.0</td>\n",
       "    </tr>\n",
       "    <tr>\n",
       "      <th>2756</th>\n",
       "      <td>Xn6a8xnFIDQKyM4h3q3NIm2u4Tv1</td>\n",
       "      <td>masculino</td>\n",
       "      <td>canceled</td>\n",
       "      <td>2020-12-18</td>\n",
       "      <td>cancelRequested</td>\n",
       "      <td>26</td>\n",
       "      <td>11.0</td>\n",
       "      <td>SP</td>\n",
       "      <td>weekly</td>\n",
       "      <td>2020-10-08</td>\n",
       "      <td>NaT</td>\n",
       "      <td>customPackage</td>\n",
       "      <td>2.0</td>\n",
       "    </tr>\n",
       "    <tr>\n",
       "      <th>3180</th>\n",
       "      <td>crhsC9t3gabr6PG5jS1A9UfSuas2</td>\n",
       "      <td>masculino</td>\n",
       "      <td>paused</td>\n",
       "      <td>2021-02-03</td>\n",
       "      <td>active</td>\n",
       "      <td>21</td>\n",
       "      <td>11.0</td>\n",
       "      <td>SP</td>\n",
       "      <td>weekly</td>\n",
       "      <td>2020-08-03</td>\n",
       "      <td>2020-08-06</td>\n",
       "      <td>customPackage</td>\n",
       "      <td>NaN</td>\n",
       "    </tr>\n",
       "    <tr>\n",
       "      <th>1058</th>\n",
       "      <td>DH7ilbklAMaSGjnc4Ly1Ssgd7e32</td>\n",
       "      <td>feminino</td>\n",
       "      <td>paused</td>\n",
       "      <td>2021-02-15</td>\n",
       "      <td>paymentFailedSubscription</td>\n",
       "      <td>21</td>\n",
       "      <td>17.0</td>\n",
       "      <td>SP</td>\n",
       "      <td>monthly</td>\n",
       "      <td>2020-11-04</td>\n",
       "      <td>2020-11-10</td>\n",
       "      <td>customPackage</td>\n",
       "      <td>3.0</td>\n",
       "    </tr>\n",
       "    <tr>\n",
       "      <th>3558</th>\n",
       "      <td>hX4AAHEY9CW13XghIRNAD9HmOB03</td>\n",
       "      <td>feminino</td>\n",
       "      <td>paused</td>\n",
       "      <td>2021-02-07</td>\n",
       "      <td>paymentFailedSubscription</td>\n",
       "      <td>31</td>\n",
       "      <td>11.0</td>\n",
       "      <td>SP</td>\n",
       "      <td>monthly</td>\n",
       "      <td>2020-11-04</td>\n",
       "      <td>2020-11-10</td>\n",
       "      <td>customPackage</td>\n",
       "      <td>3.0</td>\n",
       "    </tr>\n",
       "  </tbody>\n",
       "</table>\n",
       "</div>"
      ],
      "text/plain": [
       "                               uid     gender    status statusUpdatedAt  \\\n",
       "2788  Y6u6YeMxGmOEf3o8qQGjSQvv1pM2  masculino  canceled      2020-12-23   \n",
       "2756  Xn6a8xnFIDQKyM4h3q3NIm2u4Tv1  masculino  canceled      2020-12-18   \n",
       "3180  crhsC9t3gabr6PG5jS1A9UfSuas2  masculino    paused      2021-02-03   \n",
       "1058  DH7ilbklAMaSGjnc4Ly1Ssgd7e32   feminino    paused      2021-02-15   \n",
       "3558  hX4AAHEY9CW13XghIRNAD9HmOB03   feminino    paused      2021-02-07   \n",
       "\n",
       "                 statusPrevious age  areaCode state recurrence  \\\n",
       "2788            cancelRequested  28      11.0    SP     weekly   \n",
       "2756            cancelRequested  26      11.0    SP     weekly   \n",
       "3180                     active  21      11.0    SP     weekly   \n",
       "1058  paymentFailedSubscription  21      17.0    SP    monthly   \n",
       "3558  paymentFailedSubscription  31      11.0    SP    monthly   \n",
       "\n",
       "     activation_date end_portability_date current_package  clients_duration  \n",
       "2788      2020-08-10                  NaT   customPackage               4.0  \n",
       "2756      2020-10-08                  NaT   customPackage               2.0  \n",
       "3180      2020-08-03           2020-08-06   customPackage               NaN  \n",
       "1058      2020-11-04           2020-11-10   customPackage               3.0  \n",
       "3558      2020-11-04           2020-11-10   customPackage               3.0  "
      ]
     },
     "execution_count": 239,
     "metadata": {},
     "output_type": "execute_result"
    }
   ],
   "source": [
    "df.sample(5)"
   ]
  },
  {
   "cell_type": "markdown",
   "metadata": {},
   "source": [
    "## Df com base de clientes que cancelaram ou em processo de.... Criando Df_cc"
   ]
  },
  {
   "cell_type": "code",
   "execution_count": 240,
   "metadata": {},
   "outputs": [],
   "source": [
    "df_cc=df.loc[df['statusPrevious'].isin(['cancelRequested','paymentFailedSubscription','paused','canceled'])].copy()"
   ]
  },
  {
   "cell_type": "code",
   "execution_count": 241,
   "metadata": {},
   "outputs": [
    {
     "data": {
      "text/html": [
       "<div>\n",
       "<style scoped>\n",
       "    .dataframe tbody tr th:only-of-type {\n",
       "        vertical-align: middle;\n",
       "    }\n",
       "\n",
       "    .dataframe tbody tr th {\n",
       "        vertical-align: top;\n",
       "    }\n",
       "\n",
       "    .dataframe thead th {\n",
       "        text-align: right;\n",
       "    }\n",
       "</style>\n",
       "<table border=\"1\" class=\"dataframe\">\n",
       "  <thead>\n",
       "    <tr style=\"text-align: right;\">\n",
       "      <th></th>\n",
       "      <th>uid</th>\n",
       "      <th>gender</th>\n",
       "      <th>status</th>\n",
       "      <th>statusUpdatedAt</th>\n",
       "      <th>statusPrevious</th>\n",
       "      <th>age</th>\n",
       "      <th>areaCode</th>\n",
       "      <th>state</th>\n",
       "      <th>recurrence</th>\n",
       "      <th>activation_date</th>\n",
       "      <th>end_portability_date</th>\n",
       "      <th>current_package</th>\n",
       "      <th>clients_duration</th>\n",
       "    </tr>\n",
       "  </thead>\n",
       "  <tbody>\n",
       "    <tr>\n",
       "      <th>29</th>\n",
       "      <td>0EguolwQL8SI4e8j3E8VxzXmR6M2</td>\n",
       "      <td>feminino</td>\n",
       "      <td>paused</td>\n",
       "      <td>2021-02-09</td>\n",
       "      <td>paymentFailedSubscription</td>\n",
       "      <td>39</td>\n",
       "      <td>12.0</td>\n",
       "      <td>SP</td>\n",
       "      <td>monthly</td>\n",
       "      <td>2020-11-06</td>\n",
       "      <td>NaT</td>\n",
       "      <td>customPackage</td>\n",
       "      <td>3.0</td>\n",
       "    </tr>\n",
       "    <tr>\n",
       "      <th>4750</th>\n",
       "      <td>v9fuEPh17BTS500UB17PDebzAkB2</td>\n",
       "      <td>masculino</td>\n",
       "      <td>canceled</td>\n",
       "      <td>2020-12-18</td>\n",
       "      <td>cancelRequested</td>\n",
       "      <td>23</td>\n",
       "      <td>14.0</td>\n",
       "      <td>SP</td>\n",
       "      <td>weekly</td>\n",
       "      <td>2020-07-30</td>\n",
       "      <td>NaT</td>\n",
       "      <td>customPackage</td>\n",
       "      <td>5.0</td>\n",
       "    </tr>\n",
       "    <tr>\n",
       "      <th>2099</th>\n",
       "      <td>Q2PdPaDYH1UhZaI0Rbg2Fz09UTv1</td>\n",
       "      <td>feminino</td>\n",
       "      <td>active</td>\n",
       "      <td>2021-02-22</td>\n",
       "      <td>paused</td>\n",
       "      <td>25</td>\n",
       "      <td>17.0</td>\n",
       "      <td>SP</td>\n",
       "      <td>monthly</td>\n",
       "      <td>2020-11-18</td>\n",
       "      <td>NaT</td>\n",
       "      <td>customPackage</td>\n",
       "      <td>3.0</td>\n",
       "    </tr>\n",
       "    <tr>\n",
       "      <th>1602</th>\n",
       "      <td>JqanXDigvwgwzaHxPvfUOgr8t7m1</td>\n",
       "      <td>masculino</td>\n",
       "      <td>paused</td>\n",
       "      <td>2021-02-03</td>\n",
       "      <td>paymentFailedSubscription</td>\n",
       "      <td>21</td>\n",
       "      <td>62.0</td>\n",
       "      <td>GO</td>\n",
       "      <td>weekly</td>\n",
       "      <td>2020-12-11</td>\n",
       "      <td>2021-01-09</td>\n",
       "      <td>customPackage</td>\n",
       "      <td>2.0</td>\n",
       "    </tr>\n",
       "    <tr>\n",
       "      <th>1567</th>\n",
       "      <td>JPLsDbczfEXcuIHJKXYDwMw4wRi1</td>\n",
       "      <td>masculino</td>\n",
       "      <td>canceled</td>\n",
       "      <td>2021-01-27</td>\n",
       "      <td>cancelRequested</td>\n",
       "      <td>18</td>\n",
       "      <td>13.0</td>\n",
       "      <td>SP</td>\n",
       "      <td>weekly</td>\n",
       "      <td>2020-09-30</td>\n",
       "      <td>NaT</td>\n",
       "      <td>customPackage</td>\n",
       "      <td>4.0</td>\n",
       "    </tr>\n",
       "    <tr>\n",
       "      <th>652</th>\n",
       "      <td>83TNqmJSlpcmJFxlqyRUEDckurH2</td>\n",
       "      <td>feminino</td>\n",
       "      <td>canceled</td>\n",
       "      <td>2021-01-07</td>\n",
       "      <td>cancelRequested</td>\n",
       "      <td>22</td>\n",
       "      <td>15.0</td>\n",
       "      <td>SP</td>\n",
       "      <td>monthly</td>\n",
       "      <td>2020-11-25</td>\n",
       "      <td>2020-11-28</td>\n",
       "      <td>customPackage</td>\n",
       "      <td>2.0</td>\n",
       "    </tr>\n",
       "    <tr>\n",
       "      <th>2003</th>\n",
       "      <td>OYqIQrQMl3PdKmkXvKPgxf6Qod63</td>\n",
       "      <td>masculino</td>\n",
       "      <td>canceled</td>\n",
       "      <td>2020-12-31</td>\n",
       "      <td>cancelRequested</td>\n",
       "      <td>30</td>\n",
       "      <td>19.0</td>\n",
       "      <td>SP</td>\n",
       "      <td>weekly</td>\n",
       "      <td>2020-08-24</td>\n",
       "      <td>NaT</td>\n",
       "      <td>customPackage</td>\n",
       "      <td>4.0</td>\n",
       "    </tr>\n",
       "    <tr>\n",
       "      <th>3395</th>\n",
       "      <td>fQaDSYSWdGVSRVRiAXQ2XpFCQa33</td>\n",
       "      <td>masculino</td>\n",
       "      <td>canceled</td>\n",
       "      <td>2020-12-18</td>\n",
       "      <td>cancelRequested</td>\n",
       "      <td>22</td>\n",
       "      <td>11.0</td>\n",
       "      <td>SP</td>\n",
       "      <td>weekly</td>\n",
       "      <td>2020-09-17</td>\n",
       "      <td>NaT</td>\n",
       "      <td>customPackage</td>\n",
       "      <td>3.0</td>\n",
       "    </tr>\n",
       "    <tr>\n",
       "      <th>332</th>\n",
       "      <td>3r2mq0cj50Qyj7SRWTFQMfOKoUk2</td>\n",
       "      <td>feminino</td>\n",
       "      <td>paused</td>\n",
       "      <td>2021-02-28</td>\n",
       "      <td>paymentFailedSubscription</td>\n",
       "      <td>31</td>\n",
       "      <td>11.0</td>\n",
       "      <td>SP</td>\n",
       "      <td>weekly</td>\n",
       "      <td>2020-10-26</td>\n",
       "      <td>NaT</td>\n",
       "      <td>customPackage</td>\n",
       "      <td>4.0</td>\n",
       "    </tr>\n",
       "    <tr>\n",
       "      <th>1232</th>\n",
       "      <td>FMCHXe2zCYOgBgJOxAjrsXt5aQC3</td>\n",
       "      <td>masculino</td>\n",
       "      <td>paused</td>\n",
       "      <td>2021-03-07</td>\n",
       "      <td>paymentFailedSubscription</td>\n",
       "      <td>24</td>\n",
       "      <td>62.0</td>\n",
       "      <td>GO</td>\n",
       "      <td>weekly</td>\n",
       "      <td>2020-12-21</td>\n",
       "      <td>NaT</td>\n",
       "      <td>customPackage</td>\n",
       "      <td>3.0</td>\n",
       "    </tr>\n",
       "  </tbody>\n",
       "</table>\n",
       "</div>"
      ],
      "text/plain": [
       "                               uid     gender    status statusUpdatedAt  \\\n",
       "29    0EguolwQL8SI4e8j3E8VxzXmR6M2   feminino    paused      2021-02-09   \n",
       "4750  v9fuEPh17BTS500UB17PDebzAkB2  masculino  canceled      2020-12-18   \n",
       "2099  Q2PdPaDYH1UhZaI0Rbg2Fz09UTv1   feminino    active      2021-02-22   \n",
       "1602  JqanXDigvwgwzaHxPvfUOgr8t7m1  masculino    paused      2021-02-03   \n",
       "1567  JPLsDbczfEXcuIHJKXYDwMw4wRi1  masculino  canceled      2021-01-27   \n",
       "652   83TNqmJSlpcmJFxlqyRUEDckurH2   feminino  canceled      2021-01-07   \n",
       "2003  OYqIQrQMl3PdKmkXvKPgxf6Qod63  masculino  canceled      2020-12-31   \n",
       "3395  fQaDSYSWdGVSRVRiAXQ2XpFCQa33  masculino  canceled      2020-12-18   \n",
       "332   3r2mq0cj50Qyj7SRWTFQMfOKoUk2   feminino    paused      2021-02-28   \n",
       "1232  FMCHXe2zCYOgBgJOxAjrsXt5aQC3  masculino    paused      2021-03-07   \n",
       "\n",
       "                 statusPrevious age  areaCode state recurrence  \\\n",
       "29    paymentFailedSubscription  39      12.0    SP    monthly   \n",
       "4750            cancelRequested  23      14.0    SP     weekly   \n",
       "2099                     paused  25      17.0    SP    monthly   \n",
       "1602  paymentFailedSubscription  21      62.0    GO     weekly   \n",
       "1567            cancelRequested  18      13.0    SP     weekly   \n",
       "652             cancelRequested  22      15.0    SP    monthly   \n",
       "2003            cancelRequested  30      19.0    SP     weekly   \n",
       "3395            cancelRequested  22      11.0    SP     weekly   \n",
       "332   paymentFailedSubscription  31      11.0    SP     weekly   \n",
       "1232  paymentFailedSubscription  24      62.0    GO     weekly   \n",
       "\n",
       "     activation_date end_portability_date current_package  clients_duration  \n",
       "29        2020-11-06                  NaT   customPackage               3.0  \n",
       "4750      2020-07-30                  NaT   customPackage               5.0  \n",
       "2099      2020-11-18                  NaT   customPackage               3.0  \n",
       "1602      2020-12-11           2021-01-09   customPackage               2.0  \n",
       "1567      2020-09-30                  NaT   customPackage               4.0  \n",
       "652       2020-11-25           2020-11-28   customPackage               2.0  \n",
       "2003      2020-08-24                  NaT   customPackage               4.0  \n",
       "3395      2020-09-17                  NaT   customPackage               3.0  \n",
       "332       2020-10-26                  NaT   customPackage               4.0  \n",
       "1232      2020-12-21                  NaT   customPackage               3.0  "
      ]
     },
     "execution_count": 241,
     "metadata": {},
     "output_type": "execute_result"
    }
   ],
   "source": [
    "df_cc.sample(10)"
   ]
  },
  {
   "cell_type": "markdown",
   "metadata": {},
   "source": [
    "### Analisando Distribuições dos Clientes que cancelaram:"
   ]
  },
  {
   "cell_type": "code",
   "execution_count": 242,
   "metadata": {},
   "outputs": [
    {
     "data": {
      "text/plain": [
       "Index(['uid', 'gender', 'status', 'statusUpdatedAt', 'statusPrevious', 'age',\n",
       "       'areaCode', 'state', 'recurrence', 'activation_date',\n",
       "       'end_portability_date', 'current_package', 'clients_duration'],\n",
       "      dtype='object')"
      ]
     },
     "execution_count": 242,
     "metadata": {},
     "output_type": "execute_result"
    }
   ],
   "source": [
    "df_cc.columns"
   ]
  },
  {
   "cell_type": "code",
   "execution_count": 243,
   "metadata": {},
   "outputs": [
    {
     "data": {
      "image/png": "[encoded data removed]",
      "text/plain": [
       "<Figure size 720x720 with 1 Axes>"
      ]
     },
     "metadata": {
      "needs_background": "light"
     },
     "output_type": "display_data"
    }
   ],
   "source": [
    "fig = plt.subplots( figsize=(10, 10))\n",
    "sns.barplot(x=df_cc['gender'].value_counts().head(10).index ,y = df_cc['gender'].value_counts().head(10)).set_title('Gênero em relação a cancelamentos');\n",
    "plt.xticks(rotation=90);"
   ]
  },
  {
   "cell_type": "code",
   "execution_count": 244,
   "metadata": {},
   "outputs": [
    {
     "data": {
      "image/png": "[encoded data removed]",
      "text/plain": [
       "<Figure size 720x720 with 1 Axes>"
      ]
     },
     "metadata": {
      "needs_background": "light"
     },
     "output_type": "display_data"
    }
   ],
   "source": [
    "fig = plt.subplots( figsize=(10, 10))\n",
    "sns.barplot(x=df_cc['status'].value_counts().head(10).index ,y = df_cc['status'].value_counts().head(10)).set_title('Picture of clients status');\n",
    "plt.xticks(rotation=90);"
   ]
  },
  {
   "cell_type": "code",
   "execution_count": 245,
   "metadata": {},
   "outputs": [
    {
     "data": {
      "image/png": "[encoded data removed]",
      "text/plain": [
       "<Figure size 720x720 with 1 Axes>"
      ]
     },
     "metadata": {
      "needs_background": "light"
     },
     "output_type": "display_data"
    }
   ],
   "source": [
    "fig, ax = plt.subplots(figsize=(10,10))\n",
    "sns.barplot(x=df_cc['statusUpdatedAt'].dt.month.value_counts(normalize=True).index ,y = df_cc['statusUpdatedAt'].dt.month.value_counts(normalize=True)*100).set_title('% de Churn x Meses do Ano');\n",
    "plt.xticks(rotation=90);"
   ]
  },
  {
   "cell_type": "code",
   "execution_count": 246,
   "metadata": {},
   "outputs": [
    {
     "data": {
      "image/png": "[encoded data removed]",
      "text/plain": [
       "<Figure size 720x720 with 1 Axes>"
      ]
     },
     "metadata": {
      "needs_background": "light"
     },
     "output_type": "display_data"
    }
   ],
   "source": [
    "fig = plt.subplots( figsize=(10, 10))\n",
    "sns.barplot(x=df_cc['state'].value_counts().head(10).index ,y = df_cc['state'].value_counts().head(10)).set_title('Picture of clients status');\n",
    "plt.xticks(rotation=90);"
   ]
  },
  {
   "cell_type": "code",
   "execution_count": 247,
   "metadata": {},
   "outputs": [
    {
     "data": {
      "image/png": "[encoded data removed]",
      "text/plain": [
       "<Figure size 720x720 with 1 Axes>"
      ]
     },
     "metadata": {
      "needs_background": "light"
     },
     "output_type": "display_data"
    }
   ],
   "source": [
    "fig = plt.subplots( figsize=(10, 10))\n",
    "sns.barplot(x=df_cc['recurrence'].value_counts().head(10).index ,y = df_cc['recurrence'].value_counts().head(10)).set_title('Picture of clients status');\n",
    "plt.xticks(rotation=90);"
   ]
  },
  {
   "cell_type": "code",
   "execution_count": 248,
   "metadata": {},
   "outputs": [
    {
     "data": {
      "text/plain": [
       "weekly     67.700258\n",
       "monthly    32.299742\n",
       "Name: recurrence, dtype: float64"
      ]
     },
     "execution_count": 248,
     "metadata": {},
     "output_type": "execute_result"
    }
   ],
   "source": [
    "df_cc['recurrence'].value_counts(normalize=True)*100"
   ]
  },
  {
   "cell_type": "code",
   "execution_count": 249,
   "metadata": {},
   "outputs": [
    {
     "data": {
      "image/png": "[encoded data removed]",
      "text/plain": [
       "<Figure size 720x720 with 1 Axes>"
      ]
     },
     "metadata": {
      "needs_background": "light"
     },
     "output_type": "display_data"
    }
   ],
   "source": [
    "fig = plt.subplots( figsize=(10, 10))\n",
    "sns.histplot(df_cc['clients_duration'],binwidth=1).set_title('Idade como cliente quando resolve cancelar');"
   ]
  },
  {
   "cell_type": "code",
   "execution_count": 250,
   "metadata": {},
   "outputs": [
    {
     "data": {
      "text/plain": [
       "4.0     24.806202\n",
       "1.0     17.726098\n",
       "5.0     15.503876\n",
       "3.0     14.987080\n",
       "2.0     10.801034\n",
       "6.0      5.581395\n",
       "0.0      4.547804\n",
       "7.0      3.100775\n",
       "8.0      1.808786\n",
       "9.0      0.568475\n",
       "10.0     0.258398\n",
       "11.0     0.206718\n",
       "12.0     0.103359\n",
       "Name: clients_duration, dtype: float64"
      ]
     },
     "execution_count": 250,
     "metadata": {},
     "output_type": "execute_result"
    }
   ],
   "source": [
    "df.clients_duration.value_counts(normalize=True)*100"
   ]
  },
  {
   "cell_type": "code",
   "execution_count": 251,
   "metadata": {},
   "outputs": [
    {
     "data": {
      "image/png": "[encoded data removed]",
      "text/plain": [
       "<Figure size 720x720 with 1 Axes>"
      ]
     },
     "metadata": {
      "needs_background": "light"
     },
     "output_type": "display_data"
    }
   ],
   "source": [
    "fig = plt.subplots( figsize=(10, 10))\n",
    "sns.barplot(x=df_cc['current_package'].value_counts().head(10).index ,y = df_cc['current_package'].value_counts().head(10)).set_title('Picture of clients status');\n",
    "plt.xticks(rotation=90);"
   ]
  },
  {
   "cell_type": "code",
   "execution_count": 160,
   "metadata": {},
   "outputs": [
    {
     "data": {
      "text/plain": [
       "customPackage    97.260982\n",
       "madePackage-0     1.447028\n",
       "madePackage-1     0.981912\n",
       "madePackage-3     0.155039\n",
       "madePackage-2     0.155039\n",
       "Name: current_package, dtype: float64"
      ]
     },
     "execution_count": 160,
     "metadata": {},
     "output_type": "execute_result"
    }
   ],
   "source": [
    "df_cc['current_package'].value_counts(normalize=True)*100"
   ]
  },
  {
   "cell_type": "code",
   "execution_count": 259,
   "metadata": {},
   "outputs": [
    {
     "data": {
      "text/html": [
       "<div>\n",
       "<style scoped>\n",
       "    .dataframe tbody tr th:only-of-type {\n",
       "        vertical-align: middle;\n",
       "    }\n",
       "\n",
       "    .dataframe tbody tr th {\n",
       "        vertical-align: top;\n",
       "    }\n",
       "\n",
       "    .dataframe thead th {\n",
       "        text-align: right;\n",
       "    }\n",
       "</style>\n",
       "<table border=\"1\" class=\"dataframe\">\n",
       "  <thead>\n",
       "    <tr style=\"text-align: right;\">\n",
       "      <th></th>\n",
       "      <th>uid</th>\n",
       "      <th>gender</th>\n",
       "      <th>status</th>\n",
       "      <th>statusUpdatedAt</th>\n",
       "      <th>statusPrevious</th>\n",
       "      <th>age</th>\n",
       "      <th>areaCode</th>\n",
       "      <th>state</th>\n",
       "      <th>recurrence</th>\n",
       "      <th>activation_date</th>\n",
       "      <th>end_portability_date</th>\n",
       "      <th>current_package</th>\n",
       "      <th>clients_duration</th>\n",
       "      <th>main_line</th>\n",
       "    </tr>\n",
       "  </thead>\n",
       "  <tbody>\n",
       "    <tr>\n",
       "      <th>4935</th>\n",
       "      <td>xfZkpUZQycfdhF0Ujd446L0ViSP2</td>\n",
       "      <td>masculino</td>\n",
       "      <td>paused</td>\n",
       "      <td>2021-02-20</td>\n",
       "      <td>paymentFailedSubscription</td>\n",
       "      <td>20</td>\n",
       "      <td>11.0</td>\n",
       "      <td>SP</td>\n",
       "      <td>weekly</td>\n",
       "      <td>2020-08-21</td>\n",
       "      <td>2020-08-26</td>\n",
       "      <td>customPackage</td>\n",
       "      <td>6.0</td>\n",
       "      <td>Yes</td>\n",
       "    </tr>\n",
       "    <tr>\n",
       "      <th>5106</th>\n",
       "      <td>zhpI6XrpP1SMefq0sGtzByLAoVB2</td>\n",
       "      <td>masculino</td>\n",
       "      <td>canceled</td>\n",
       "      <td>2020-12-18</td>\n",
       "      <td>cancelRequested</td>\n",
       "      <td>23</td>\n",
       "      <td>19.0</td>\n",
       "      <td>SP</td>\n",
       "      <td>weekly</td>\n",
       "      <td>2020-07-31</td>\n",
       "      <td>NaT</td>\n",
       "      <td>customPackage</td>\n",
       "      <td>5.0</td>\n",
       "      <td>No</td>\n",
       "    </tr>\n",
       "    <tr>\n",
       "      <th>4119</th>\n",
       "      <td>nvh66jMpbZVNYg3ANJ1VjBTxQDr1</td>\n",
       "      <td>masculino</td>\n",
       "      <td>cancelRequested</td>\n",
       "      <td>2021-02-24</td>\n",
       "      <td>paused</td>\n",
       "      <td>23</td>\n",
       "      <td>11.0</td>\n",
       "      <td>SP</td>\n",
       "      <td>weekly</td>\n",
       "      <td>2020-10-30</td>\n",
       "      <td>2020-11-05</td>\n",
       "      <td>customPackage</td>\n",
       "      <td>4.0</td>\n",
       "      <td>Yes</td>\n",
       "    </tr>\n",
       "    <tr>\n",
       "      <th>737</th>\n",
       "      <td>9BsHTq4i1zPJyEiTG1qVuTZnWS33</td>\n",
       "      <td>masculino</td>\n",
       "      <td>canceled</td>\n",
       "      <td>2020-12-18</td>\n",
       "      <td>cancelRequested</td>\n",
       "      <td>35</td>\n",
       "      <td>17.0</td>\n",
       "      <td>SP</td>\n",
       "      <td>weekly</td>\n",
       "      <td>2020-09-04</td>\n",
       "      <td>NaT</td>\n",
       "      <td>customPackage</td>\n",
       "      <td>3.0</td>\n",
       "      <td>No</td>\n",
       "    </tr>\n",
       "    <tr>\n",
       "      <th>2371</th>\n",
       "      <td>T25IKQlty7PFe7KP0A1Jc8UOAPQ2</td>\n",
       "      <td>masculino</td>\n",
       "      <td>canceled</td>\n",
       "      <td>2020-12-19</td>\n",
       "      <td>cancelRequested</td>\n",
       "      <td>38</td>\n",
       "      <td>16.0</td>\n",
       "      <td>SP</td>\n",
       "      <td>weekly</td>\n",
       "      <td>2020-08-11</td>\n",
       "      <td>2020-08-11</td>\n",
       "      <td>customPackage</td>\n",
       "      <td>4.0</td>\n",
       "      <td>Yes</td>\n",
       "    </tr>\n",
       "    <tr>\n",
       "      <th>2487</th>\n",
       "      <td>UZfZQadfAuejI4SKd51J0KnDuFp1</td>\n",
       "      <td>masculino</td>\n",
       "      <td>paused</td>\n",
       "      <td>2021-02-26</td>\n",
       "      <td>paymentFailedSubscription</td>\n",
       "      <td>22</td>\n",
       "      <td>11.0</td>\n",
       "      <td>SP</td>\n",
       "      <td>weekly</td>\n",
       "      <td>2021-02-16</td>\n",
       "      <td>NaT</td>\n",
       "      <td>customPackage</td>\n",
       "      <td>0.0</td>\n",
       "      <td>No</td>\n",
       "    </tr>\n",
       "    <tr>\n",
       "      <th>3612</th>\n",
       "      <td>iAIh08S5YKN8NPrFGM2e1b04ohb2</td>\n",
       "      <td>masculino</td>\n",
       "      <td>paused</td>\n",
       "      <td>2021-02-17</td>\n",
       "      <td>paymentFailedSubscription</td>\n",
       "      <td>20</td>\n",
       "      <td>11.0</td>\n",
       "      <td>SP</td>\n",
       "      <td>monthly</td>\n",
       "      <td>2020-11-14</td>\n",
       "      <td>NaT</td>\n",
       "      <td>customPackage</td>\n",
       "      <td>3.0</td>\n",
       "      <td>No</td>\n",
       "    </tr>\n",
       "    <tr>\n",
       "      <th>3697</th>\n",
       "      <td>j6XBPPqYdRciwJl8g85lKXYlu5o1</td>\n",
       "      <td>masculino</td>\n",
       "      <td>canceled</td>\n",
       "      <td>2020-12-18</td>\n",
       "      <td>cancelRequested</td>\n",
       "      <td>23</td>\n",
       "      <td>11.0</td>\n",
       "      <td>SP</td>\n",
       "      <td>weekly</td>\n",
       "      <td>2020-09-02</td>\n",
       "      <td>2020-09-05</td>\n",
       "      <td>customPackage</td>\n",
       "      <td>3.0</td>\n",
       "      <td>Yes</td>\n",
       "    </tr>\n",
       "    <tr>\n",
       "      <th>3696</th>\n",
       "      <td>j6Wqz6mt8PXWri5IyulZP9rfaiw1</td>\n",
       "      <td>masculino</td>\n",
       "      <td>paused</td>\n",
       "      <td>2021-01-29</td>\n",
       "      <td>paymentFailedSubscription</td>\n",
       "      <td>27</td>\n",
       "      <td>11.0</td>\n",
       "      <td>SP</td>\n",
       "      <td>weekly</td>\n",
       "      <td>2020-08-04</td>\n",
       "      <td>NaT</td>\n",
       "      <td>customPackage</td>\n",
       "      <td>5.0</td>\n",
       "      <td>No</td>\n",
       "    </tr>\n",
       "    <tr>\n",
       "      <th>4789</th>\n",
       "      <td>vjGDiJxAxSakwDc9tLfxNSlGraL2</td>\n",
       "      <td>não binário</td>\n",
       "      <td>canceled</td>\n",
       "      <td>2020-12-18</td>\n",
       "      <td>cancelRequested</td>\n",
       "      <td>19</td>\n",
       "      <td>11.0</td>\n",
       "      <td>SP</td>\n",
       "      <td>weekly</td>\n",
       "      <td>2020-10-29</td>\n",
       "      <td>NaT</td>\n",
       "      <td>customPackage</td>\n",
       "      <td>2.0</td>\n",
       "      <td>No</td>\n",
       "    </tr>\n",
       "  </tbody>\n",
       "</table>\n",
       "</div>"
      ],
      "text/plain": [
       "                               uid       gender           status  \\\n",
       "4935  xfZkpUZQycfdhF0Ujd446L0ViSP2    masculino           paused   \n",
       "5106  zhpI6XrpP1SMefq0sGtzByLAoVB2    masculino         canceled   \n",
       "4119  nvh66jMpbZVNYg3ANJ1VjBTxQDr1    masculino  cancelRequested   \n",
       "737   9BsHTq4i1zPJyEiTG1qVuTZnWS33    masculino         canceled   \n",
       "2371  T25IKQlty7PFe7KP0A1Jc8UOAPQ2    masculino         canceled   \n",
       "2487  UZfZQadfAuejI4SKd51J0KnDuFp1    masculino           paused   \n",
       "3612  iAIh08S5YKN8NPrFGM2e1b04ohb2    masculino           paused   \n",
       "3697  j6XBPPqYdRciwJl8g85lKXYlu5o1    masculino         canceled   \n",
       "3696  j6Wqz6mt8PXWri5IyulZP9rfaiw1    masculino           paused   \n",
       "4789  vjGDiJxAxSakwDc9tLfxNSlGraL2  não binário         canceled   \n",
       "\n",
       "     statusUpdatedAt             statusPrevious age  areaCode state  \\\n",
       "4935      2021-02-20  paymentFailedSubscription  20      11.0    SP   \n",
       "5106      2020-12-18            cancelRequested  23      19.0    SP   \n",
       "4119      2021-02-24                     paused  23      11.0    SP   \n",
       "737       2020-12-18            cancelRequested  35      17.0    SP   \n",
       "2371      2020-12-19            cancelRequested  38      16.0    SP   \n",
       "2487      2021-02-26  paymentFailedSubscription  22      11.0    SP   \n",
       "3612      2021-02-17  paymentFailedSubscription  20      11.0    SP   \n",
       "3697      2020-12-18            cancelRequested  23      11.0    SP   \n",
       "3696      2021-01-29  paymentFailedSubscription  27      11.0    SP   \n",
       "4789      2020-12-18            cancelRequested  19      11.0    SP   \n",
       "\n",
       "     recurrence activation_date end_portability_date current_package  \\\n",
       "4935     weekly      2020-08-21           2020-08-26   customPackage   \n",
       "5106     weekly      2020-07-31                  NaT   customPackage   \n",
       "4119     weekly      2020-10-30           2020-11-05   customPackage   \n",
       "737      weekly      2020-09-04                  NaT   customPackage   \n",
       "2371     weekly      2020-08-11           2020-08-11   customPackage   \n",
       "2487     weekly      2021-02-16                  NaT   customPackage   \n",
       "3612    monthly      2020-11-14                  NaT   customPackage   \n",
       "3697     weekly      2020-09-02           2020-09-05   customPackage   \n",
       "3696     weekly      2020-08-04                  NaT   customPackage   \n",
       "4789     weekly      2020-10-29                  NaT   customPackage   \n",
       "\n",
       "      clients_duration main_line  \n",
       "4935               6.0       Yes  \n",
       "5106               5.0        No  \n",
       "4119               4.0       Yes  \n",
       "737                3.0        No  \n",
       "2371               4.0       Yes  \n",
       "2487               0.0        No  \n",
       "3612               3.0        No  \n",
       "3697               3.0       Yes  \n",
       "3696               5.0        No  \n",
       "4789               2.0        No  "
      ]
     },
     "execution_count": 259,
     "metadata": {},
     "output_type": "execute_result"
    }
   ],
   "source": [
    "df_cc.sample(10)"
   ]
  },
  {
   "cell_type": "markdown",
   "metadata": {},
   "source": [
    "### Coluna com main_line - categorical"
   ]
  },
  {
   "cell_type": "code",
   "execution_count": 215,
   "metadata": {},
   "outputs": [
    {
     "data": {
      "text/plain": [
       "NaT"
      ]
     },
     "execution_count": 215,
     "metadata": {},
     "output_type": "execute_result"
    }
   ],
   "source": [
    "df_cc['end_portability_date'][1322]"
   ]
  },
  {
   "cell_type": "code",
   "execution_count": 253,
   "metadata": {},
   "outputs": [],
   "source": [
    "df_cc['main_line']=0"
   ]
  },
  {
   "cell_type": "code",
   "execution_count": 256,
   "metadata": {},
   "outputs": [],
   "source": [
    "df_cc['main_line'].loc[df_cc['end_portability_date'].isnull()] = 'No'"
   ]
  },
  {
   "cell_type": "code",
   "execution_count": 255,
   "metadata": {},
   "outputs": [
    {
     "name": "stderr",
     "output_type": "stream",
     "text": [
      "C:\\Users\\rodri\\anaconda3\\lib\\site-packages\\pandas\\core\\indexing.py:1637: SettingWithCopyWarning: \n",
      "A value is trying to be set on a copy of a slice from a DataFrame\n",
      "\n",
      "See the caveats in the documentation: https://pandas.pydata.org/pandas-docs/stable/user_guide/indexing.html#returning-a-view-versus-a-copy\n",
      "  self._setitem_single_block(indexer, value, name)\n"
     ]
    }
   ],
   "source": [
    "df_cc['main_line'].loc[df_cc['end_portability_date'].notnull()] = 'Yes'"
   ]
  },
  {
   "cell_type": "code",
   "execution_count": 260,
   "metadata": {},
   "outputs": [],
   "source": [
    "df_cc.to_csv('customers_churn.csv',index=False)"
   ]
  },
  {
   "cell_type": "markdown",
   "metadata": {},
   "source": [
    "## Linha principal"
   ]
  },
  {
   "cell_type": "code",
   "execution_count": 261,
   "metadata": {},
   "outputs": [
    {
     "data": {
      "image/png": "[encoded data removed]",
      "text/plain": [
       "<Figure size 720x720 with 1 Axes>"
      ]
     },
     "metadata": {
      "needs_background": "light"
     },
     "output_type": "display_data"
    }
   ],
   "source": [
    "fig = plt.subplots( figsize=(10, 10))\n",
    "sns.barplot(x=df_cc['main_line'].value_counts().head(10).index ,y = df_cc['main_line'].value_counts().head(10)).set_title('Picture of clients status');\n",
    "plt.xticks(rotation=90);"
   ]
  },
  {
   "cell_type": "markdown",
   "metadata": {},
   "source": [
    "## 2º Df orders."
   ]
  },
  {
   "cell_type": "code",
   "execution_count": 72,
   "metadata": {},
   "outputs": [],
   "source": [
    "df2 = pd.read_csv('orders_case.csv')"
   ]
  },
  {
   "cell_type": "code",
   "execution_count": 73,
   "metadata": {},
   "outputs": [
    {
     "data": {
      "text/html": [
       "<div>\n",
       "<style scoped>\n",
       "    .dataframe tbody tr th:only-of-type {\n",
       "        vertical-align: middle;\n",
       "    }\n",
       "\n",
       "    .dataframe tbody tr th {\n",
       "        vertical-align: top;\n",
       "    }\n",
       "\n",
       "    .dataframe thead th {\n",
       "        text-align: right;\n",
       "    }\n",
       "</style>\n",
       "<table border=\"1\" class=\"dataframe\">\n",
       "  <thead>\n",
       "    <tr style=\"text-align: right;\">\n",
       "      <th></th>\n",
       "      <th>order_id</th>\n",
       "      <th>customer_id</th>\n",
       "      <th>produtos</th>\n",
       "      <th># pacotes</th>\n",
       "      <th>preços</th>\n",
       "      <th>totais por item</th>\n",
       "      <th>created_at</th>\n",
       "    </tr>\n",
       "  </thead>\n",
       "  <tbody>\n",
       "    <tr>\n",
       "      <th>23385</th>\n",
       "      <td>or_Z8OEv4kiEiKRG34g</td>\n",
       "      <td>9H93bRCzGeeK4GVMhVMFwwWlq8c2</td>\n",
       "      <td>30 Minutos de Ligação</td>\n",
       "      <td>1</td>\n",
       "      <td>3.00</td>\n",
       "      <td>3.00</td>\n",
       "      <td>6/1/2021</td>\n",
       "    </tr>\n",
       "    <tr>\n",
       "      <th>27791</th>\n",
       "      <td>or_aRAoLAwC7CRXYEK6</td>\n",
       "      <td>LsyIiZftXSbDoNYUVFTPlr1Dsiv2</td>\n",
       "      <td>500MB de Dados Móveis</td>\n",
       "      <td>1</td>\n",
       "      <td>4.99</td>\n",
       "      <td>4.99</td>\n",
       "      <td>24/12/20</td>\n",
       "    </tr>\n",
       "    <tr>\n",
       "      <th>55409</th>\n",
       "      <td>or_8Mzn7mIOktz0NB7R</td>\n",
       "      <td>Xi7eqVQaH8NBsIEVtLSrrvoLm8A3</td>\n",
       "      <td>Renovação do APP</td>\n",
       "      <td>1</td>\n",
       "      <td>2.00</td>\n",
       "      <td>2.00</td>\n",
       "      <td>17/09/20</td>\n",
       "    </tr>\n",
       "    <tr>\n",
       "      <th>26802</th>\n",
       "      <td>or_EdbR51eIBIE5q4Dv</td>\n",
       "      <td>eShbLpHdD5ULAqPA811n2686Bvn1</td>\n",
       "      <td>500MB de Dados Móveis</td>\n",
       "      <td>2</td>\n",
       "      <td>4.99</td>\n",
       "      <td>9.98</td>\n",
       "      <td>27/12/20</td>\n",
       "    </tr>\n",
       "    <tr>\n",
       "      <th>16698</th>\n",
       "      <td>or_j7a0oAxiOYI8my8L</td>\n",
       "      <td>nOiH1XBr0CSIM5jFI2VXgrBZNz02</td>\n",
       "      <td>Renovação do APP</td>\n",
       "      <td>1</td>\n",
       "      <td>2.00</td>\n",
       "      <td>2.00</td>\n",
       "      <td>25/01/21</td>\n",
       "    </tr>\n",
       "    <tr>\n",
       "      <th>27798</th>\n",
       "      <td>or_qxR59LoUkUb62Z04</td>\n",
       "      <td>KrR0UncHCZMDUsG9BEtRlBnQgz72</td>\n",
       "      <td>Renovação do APP</td>\n",
       "      <td>1</td>\n",
       "      <td>2.00</td>\n",
       "      <td>2.00</td>\n",
       "      <td>24/12/20</td>\n",
       "    </tr>\n",
       "    <tr>\n",
       "      <th>64518</th>\n",
       "      <td>or_bj10pJESWSRgzoWO</td>\n",
       "      <td>BuFT7lzIdqTPFWGPuWIihWd5Phs1</td>\n",
       "      <td>Renovação do APP</td>\n",
       "      <td>1</td>\n",
       "      <td>2.00</td>\n",
       "      <td>2.00</td>\n",
       "      <td>4/8/2020</td>\n",
       "    </tr>\n",
       "    <tr>\n",
       "      <th>14243</th>\n",
       "      <td>or_d78Kq9EToFJ6qOJR</td>\n",
       "      <td>v42xaG8xuHdARKgx62M3TYBuYmP2</td>\n",
       "      <td>Renovação do APP</td>\n",
       "      <td>1</td>\n",
       "      <td>2.00</td>\n",
       "      <td>2.00</td>\n",
       "      <td>1/2/2021</td>\n",
       "    </tr>\n",
       "    <tr>\n",
       "      <th>49094</th>\n",
       "      <td>or_YLez2bVIDQUrzkgA</td>\n",
       "      <td>CvHnQmb7JkUnvlc37WZvVcc5iJO2</td>\n",
       "      <td>500MB de Dados Móveis Top Up</td>\n",
       "      <td>1</td>\n",
       "      <td>6.00</td>\n",
       "      <td>6.00</td>\n",
       "      <td>10/10/2020</td>\n",
       "    </tr>\n",
       "    <tr>\n",
       "      <th>33995</th>\n",
       "      <td>or_beg2q8DH5Df7Oo0y</td>\n",
       "      <td>4CVxymgEZofDQ7unT6QbEBVJ1Ay2</td>\n",
       "      <td>Renovação do APP</td>\n",
       "      <td>1</td>\n",
       "      <td>2.00</td>\n",
       "      <td>2.00</td>\n",
       "      <td>8/12/2020</td>\n",
       "    </tr>\n",
       "  </tbody>\n",
       "</table>\n",
       "</div>"
      ],
      "text/plain": [
       "                  order_id                   customer_id  \\\n",
       "23385  or_Z8OEv4kiEiKRG34g  9H93bRCzGeeK4GVMhVMFwwWlq8c2   \n",
       "27791  or_aRAoLAwC7CRXYEK6  LsyIiZftXSbDoNYUVFTPlr1Dsiv2   \n",
       "55409  or_8Mzn7mIOktz0NB7R  Xi7eqVQaH8NBsIEVtLSrrvoLm8A3   \n",
       "26802  or_EdbR51eIBIE5q4Dv  eShbLpHdD5ULAqPA811n2686Bvn1   \n",
       "16698  or_j7a0oAxiOYI8my8L  nOiH1XBr0CSIM5jFI2VXgrBZNz02   \n",
       "27798  or_qxR59LoUkUb62Z04  KrR0UncHCZMDUsG9BEtRlBnQgz72   \n",
       "64518  or_bj10pJESWSRgzoWO  BuFT7lzIdqTPFWGPuWIihWd5Phs1   \n",
       "14243  or_d78Kq9EToFJ6qOJR  v42xaG8xuHdARKgx62M3TYBuYmP2   \n",
       "49094  or_YLez2bVIDQUrzkgA  CvHnQmb7JkUnvlc37WZvVcc5iJO2   \n",
       "33995  or_beg2q8DH5Df7Oo0y  4CVxymgEZofDQ7unT6QbEBVJ1Ay2   \n",
       "\n",
       "                           produtos  # pacotes  preços  totais por item  \\\n",
       "23385         30 Minutos de Ligação          1    3.00             3.00   \n",
       "27791         500MB de Dados Móveis          1    4.99             4.99   \n",
       "55409              Renovação do APP          1    2.00             2.00   \n",
       "26802         500MB de Dados Móveis          2    4.99             9.98   \n",
       "16698              Renovação do APP          1    2.00             2.00   \n",
       "27798              Renovação do APP          1    2.00             2.00   \n",
       "64518              Renovação do APP          1    2.00             2.00   \n",
       "14243              Renovação do APP          1    2.00             2.00   \n",
       "49094  500MB de Dados Móveis Top Up          1    6.00             6.00   \n",
       "33995              Renovação do APP          1    2.00             2.00   \n",
       "\n",
       "       created_at  \n",
       "23385    6/1/2021  \n",
       "27791    24/12/20  \n",
       "55409    17/09/20  \n",
       "26802    27/12/20  \n",
       "16698    25/01/21  \n",
       "27798    24/12/20  \n",
       "64518    4/8/2020  \n",
       "14243    1/2/2021  \n",
       "49094  10/10/2020  \n",
       "33995   8/12/2020  "
      ]
     },
     "execution_count": 73,
     "metadata": {},
     "output_type": "execute_result"
    }
   ],
   "source": [
    "df2.sample(10)"
   ]
  },
  {
   "cell_type": "code",
   "execution_count": 74,
   "metadata": {},
   "outputs": [
    {
     "name": "stdout",
     "output_type": "stream",
     "text": [
      "<class 'pandas.core.frame.DataFrame'>\n",
      "RangeIndex: 70255 entries, 0 to 70254\n",
      "Data columns (total 7 columns):\n",
      " #   Column           Non-Null Count  Dtype  \n",
      "---  ------           --------------  -----  \n",
      " 0   order_id         70255 non-null  object \n",
      " 1   customer_id      70255 non-null  object \n",
      " 2   produtos         70255 non-null  object \n",
      " 3   # pacotes        70255 non-null  int64  \n",
      " 4   preços           70255 non-null  float64\n",
      " 5   totais por item  70255 non-null  float64\n",
      " 6   created_at       70255 non-null  object \n",
      "dtypes: float64(2), int64(1), object(4)\n",
      "memory usage: 3.8+ MB\n"
     ]
    }
   ],
   "source": [
    "df2.info()"
   ]
  },
  {
   "cell_type": "markdown",
   "metadata": {},
   "source": [
    "### Datas"
   ]
  },
  {
   "cell_type": "code",
   "execution_count": 75,
   "metadata": {},
   "outputs": [],
   "source": [
    "df2.created_at  = pd.to_datetime(df2.created_at)"
   ]
  },
  {
   "cell_type": "markdown",
   "metadata": {},
   "source": [
    "## Valores Nulos"
   ]
  },
  {
   "cell_type": "code",
   "execution_count": 76,
   "metadata": {},
   "outputs": [
    {
     "data": {
      "text/plain": [
       "<AxesSubplot:>"
      ]
     },
     "execution_count": 76,
     "metadata": {},
     "output_type": "execute_result"
    },
    {
     "data": {
      "image/png": "[encoded data removed]",
      "text/plain": [
       "<Figure size 1800x720 with 2 Axes>"
      ]
     },
     "metadata": {
      "needs_background": "light"
     },
     "output_type": "display_data"
    }
   ],
   "source": [
    "msno.matrix(df2)"
   ]
  },
  {
   "cell_type": "markdown",
   "metadata": {},
   "source": [
    "## Informações relevantes"
   ]
  },
  {
   "cell_type": "code",
   "execution_count": 77,
   "metadata": {},
   "outputs": [],
   "source": [
    "dft = df.merge(df2,how='left', left_on='uid', right_on='customer_id')"
   ]
  },
  {
   "cell_type": "code",
   "execution_count": 78,
   "metadata": {},
   "outputs": [
    {
     "name": "stdout",
     "output_type": "stream",
     "text": [
      "<class 'pandas.core.frame.DataFrame'>\n",
      "Int64Index: 70570 entries, 0 to 70569\n",
      "Data columns (total 19 columns):\n",
      " #   Column                Non-Null Count  Dtype         \n",
      "---  ------                --------------  -----         \n",
      " 0   uid                   70569 non-null  object        \n",
      " 1   gender                70569 non-null  object        \n",
      " 2   status                70569 non-null  object        \n",
      " 3   statusUpdatedAt       70569 non-null  datetime64[ns]\n",
      " 4   statusPrevious        70569 non-null  object        \n",
      " 5   age                   70569 non-null  object        \n",
      " 6   areaCode              70569 non-null  float64       \n",
      " 7   state                 70569 non-null  object        \n",
      " 8   recurrence            70569 non-null  object        \n",
      " 9   activation_date       70569 non-null  datetime64[ns]\n",
      " 10  end_portability_date  36521 non-null  datetime64[ns]\n",
      " 11  current_package       70569 non-null  object        \n",
      " 12  order_id              70253 non-null  object        \n",
      " 13  customer_id           70253 non-null  object        \n",
      " 14  produtos              70253 non-null  object        \n",
      " 15  # pacotes             70253 non-null  float64       \n",
      " 16  preços                70253 non-null  float64       \n",
      " 17  totais por item       70253 non-null  float64       \n",
      " 18  created_at            70253 non-null  datetime64[ns]\n",
      "dtypes: datetime64[ns](4), float64(4), object(11)\n",
      "memory usage: 10.8+ MB\n"
     ]
    }
   ],
   "source": [
    "dft.info()"
   ]
  },
  {
   "cell_type": "code",
   "execution_count": 171,
   "metadata": {},
   "outputs": [
    {
     "data": {
      "text/html": [
       "<div>\n",
       "<style scoped>\n",
       "    .dataframe tbody tr th:only-of-type {\n",
       "        vertical-align: middle;\n",
       "    }\n",
       "\n",
       "    .dataframe tbody tr th {\n",
       "        vertical-align: top;\n",
       "    }\n",
       "\n",
       "    .dataframe thead th {\n",
       "        text-align: right;\n",
       "    }\n",
       "</style>\n",
       "<table border=\"1\" class=\"dataframe\">\n",
       "  <thead>\n",
       "    <tr style=\"text-align: right;\">\n",
       "      <th></th>\n",
       "      <th>uid</th>\n",
       "      <th>gender</th>\n",
       "      <th>status</th>\n",
       "      <th>statusUpdatedAt</th>\n",
       "      <th>statusPrevious</th>\n",
       "      <th>age</th>\n",
       "      <th>areaCode</th>\n",
       "      <th>state</th>\n",
       "      <th>recurrence</th>\n",
       "      <th>activation_date</th>\n",
       "      <th>end_portability_date</th>\n",
       "      <th>current_package</th>\n",
       "      <th>order_id</th>\n",
       "      <th>customer_id</th>\n",
       "      <th>produtos</th>\n",
       "      <th># pacotes</th>\n",
       "      <th>preços</th>\n",
       "      <th>totais por item</th>\n",
       "      <th>created_at</th>\n",
       "    </tr>\n",
       "  </thead>\n",
       "  <tbody>\n",
       "    <tr>\n",
       "      <th>69031</th>\n",
       "      <td>ybHziYw95tYbhvpn5Og6Ijg1bO73</td>\n",
       "      <td>feminino</td>\n",
       "      <td>active</td>\n",
       "      <td>2021-03-03</td>\n",
       "      <td>processingSubscription</td>\n",
       "      <td>22</td>\n",
       "      <td>11.0</td>\n",
       "      <td>SP</td>\n",
       "      <td>weekly</td>\n",
       "      <td>2020-09-23</td>\n",
       "      <td>2020-09-28</td>\n",
       "      <td>customPackage</td>\n",
       "      <td>or_Kz6rZ9jhliBWPov7</td>\n",
       "      <td>ybHziYw95tYbhvpn5Og6Ijg1bO73</td>\n",
       "      <td>30 Minutos de Ligação Top Up</td>\n",
       "      <td>2.0</td>\n",
       "      <td>3.0</td>\n",
       "      <td>6.0</td>\n",
       "      <td>2020-05-11</td>\n",
       "    </tr>\n",
       "    <tr>\n",
       "      <th>4061</th>\n",
       "      <td>2y2wVRQYjnTsgvGcFgqt9gRNOd92</td>\n",
       "      <td>masculino</td>\n",
       "      <td>active</td>\n",
       "      <td>2021-02-28</td>\n",
       "      <td>processingSubscription</td>\n",
       "      <td>32</td>\n",
       "      <td>11.0</td>\n",
       "      <td>SP</td>\n",
       "      <td>monthly</td>\n",
       "      <td>2020-10-31</td>\n",
       "      <td>2020-11-05</td>\n",
       "      <td>customPackage</td>\n",
       "      <td>or_2owxpBDIdOCxN8JX</td>\n",
       "      <td>2y2wVRQYjnTsgvGcFgqt9gRNOd92</td>\n",
       "      <td>Renovação do APP</td>\n",
       "      <td>4.0</td>\n",
       "      <td>2.0</td>\n",
       "      <td>8.0</td>\n",
       "      <td>2020-10-31</td>\n",
       "    </tr>\n",
       "    <tr>\n",
       "      <th>42696</th>\n",
       "      <td>bvOMABum5YbEOmgv4nVgKGlwDog1</td>\n",
       "      <td>feminino</td>\n",
       "      <td>active</td>\n",
       "      <td>2021-03-05</td>\n",
       "      <td>processingSubscription</td>\n",
       "      <td>27</td>\n",
       "      <td>19.0</td>\n",
       "      <td>SP</td>\n",
       "      <td>weekly</td>\n",
       "      <td>2020-10-10</td>\n",
       "      <td>NaT</td>\n",
       "      <td>customPackage</td>\n",
       "      <td>or_JnDAQDbTAT6R3g0a</td>\n",
       "      <td>bvOMABum5YbEOmgv4nVgKGlwDog1</td>\n",
       "      <td>Renovação do APP</td>\n",
       "      <td>1.0</td>\n",
       "      <td>2.0</td>\n",
       "      <td>2.0</td>\n",
       "      <td>2021-01-01</td>\n",
       "    </tr>\n",
       "    <tr>\n",
       "      <th>54982</th>\n",
       "      <td>mSbPJzcKp7f7Bw9GEKduJaslxW92</td>\n",
       "      <td>masculino</td>\n",
       "      <td>active</td>\n",
       "      <td>2021-02-21</td>\n",
       "      <td>processingSubscription</td>\n",
       "      <td>27</td>\n",
       "      <td>11.0</td>\n",
       "      <td>SP</td>\n",
       "      <td>monthly</td>\n",
       "      <td>2020-08-26</td>\n",
       "      <td>2020-08-31</td>\n",
       "      <td>customPackage</td>\n",
       "      <td>or_AODvPgGsGFdGPMQE</td>\n",
       "      <td>mSbPJzcKp7f7Bw9GEKduJaslxW92</td>\n",
       "      <td>Renovação do APP</td>\n",
       "      <td>1.0</td>\n",
       "      <td>2.0</td>\n",
       "      <td>2.0</td>\n",
       "      <td>2020-12-13</td>\n",
       "    </tr>\n",
       "    <tr>\n",
       "      <th>22932</th>\n",
       "      <td>KvQXsKJUHteYZ9EuX7yFF03O4D93</td>\n",
       "      <td>feminino</td>\n",
       "      <td>active</td>\n",
       "      <td>2021-02-24</td>\n",
       "      <td>processingSubscription</td>\n",
       "      <td>21</td>\n",
       "      <td>16.0</td>\n",
       "      <td>SP</td>\n",
       "      <td>monthly</td>\n",
       "      <td>2020-08-27</td>\n",
       "      <td>NaT</td>\n",
       "      <td>customPackage</td>\n",
       "      <td>or_Bjw76az0uKSgb8X5</td>\n",
       "      <td>KvQXsKJUHteYZ9EuX7yFF03O4D93</td>\n",
       "      <td>500MB de Dados Móveis</td>\n",
       "      <td>1.0</td>\n",
       "      <td>6.0</td>\n",
       "      <td>6.0</td>\n",
       "      <td>2020-03-09</td>\n",
       "    </tr>\n",
       "  </tbody>\n",
       "</table>\n",
       "</div>"
      ],
      "text/plain": [
       "                                uid     gender  status statusUpdatedAt  \\\n",
       "69031  ybHziYw95tYbhvpn5Og6Ijg1bO73   feminino  active      2021-03-03   \n",
       "4061   2y2wVRQYjnTsgvGcFgqt9gRNOd92  masculino  active      2021-02-28   \n",
       "42696  bvOMABum5YbEOmgv4nVgKGlwDog1   feminino  active      2021-03-05   \n",
       "54982  mSbPJzcKp7f7Bw9GEKduJaslxW92  masculino  active      2021-02-21   \n",
       "22932  KvQXsKJUHteYZ9EuX7yFF03O4D93   feminino  active      2021-02-24   \n",
       "\n",
       "               statusPrevious age  areaCode state recurrence activation_date  \\\n",
       "69031  processingSubscription  22      11.0    SP     weekly      2020-09-23   \n",
       "4061   processingSubscription  32      11.0    SP    monthly      2020-10-31   \n",
       "42696  processingSubscription  27      19.0    SP     weekly      2020-10-10   \n",
       "54982  processingSubscription  27      11.0    SP    monthly      2020-08-26   \n",
       "22932  processingSubscription  21      16.0    SP    monthly      2020-08-27   \n",
       "\n",
       "      end_portability_date current_package             order_id  \\\n",
       "69031           2020-09-28   customPackage  or_Kz6rZ9jhliBWPov7   \n",
       "4061            2020-11-05   customPackage  or_2owxpBDIdOCxN8JX   \n",
       "42696                  NaT   customPackage  or_JnDAQDbTAT6R3g0a   \n",
       "54982           2020-08-31   customPackage  or_AODvPgGsGFdGPMQE   \n",
       "22932                  NaT   customPackage  or_Bjw76az0uKSgb8X5   \n",
       "\n",
       "                        customer_id                      produtos  # pacotes  \\\n",
       "69031  ybHziYw95tYbhvpn5Og6Ijg1bO73  30 Minutos de Ligação Top Up        2.0   \n",
       "4061   2y2wVRQYjnTsgvGcFgqt9gRNOd92              Renovação do APP        4.0   \n",
       "42696  bvOMABum5YbEOmgv4nVgKGlwDog1              Renovação do APP        1.0   \n",
       "54982  mSbPJzcKp7f7Bw9GEKduJaslxW92              Renovação do APP        1.0   \n",
       "22932  KvQXsKJUHteYZ9EuX7yFF03O4D93         500MB de Dados Móveis        1.0   \n",
       "\n",
       "       preços  totais por item created_at  \n",
       "69031     3.0              6.0 2020-05-11  \n",
       "4061      2.0              8.0 2020-10-31  \n",
       "42696     2.0              2.0 2021-01-01  \n",
       "54982     2.0              2.0 2020-12-13  \n",
       "22932     6.0              6.0 2020-03-09  "
      ]
     },
     "execution_count": 171,
     "metadata": {},
     "output_type": "execute_result"
    }
   ],
   "source": [
    "dft.sample(5)"
   ]
  },
  {
   "cell_type": "code",
   "execution_count": 172,
   "metadata": {},
   "outputs": [
    {
     "data": {
      "text/plain": [
       "tjYKxYgFeedEmNm3eixhoB7QAB43    229\n",
       "LLMsqp2Z96ZvelUio2bByqtIAAi2    172\n",
       "d913u2g4n0g5NL6pnExKTSptkSs2    150\n",
       "tlpXVf5YtgY8ylWd6FqHszw2Ts63    132\n",
       "lqrdSu8CGbMlAJ6ztKoV8yfKGIE2    129\n",
       "                               ... \n",
       "Lo7uhTAvkKO4687k9JTS6W1lepa2      1\n",
       "ywUQb45XtHePWnYTbsnENMBgpop1      1\n",
       "mhMZEDAH61TJiJBwV940x2SKvpq1      1\n",
       "jnRJHKmlGvSy1D003RysweFzMNm2      1\n",
       "KFHyjuRcFoXMPIIwhkuTZK8gsV63      1\n",
       "Name: uid, Length: 5129, dtype: int64"
      ]
     },
     "execution_count": 172,
     "metadata": {},
     "output_type": "execute_result"
    }
   ],
   "source": [
    "dft.uid.value_counts()"
   ]
  },
  {
   "cell_type": "markdown",
   "metadata": {},
   "source": [
    "Diferentes clientes 5129!"
   ]
  },
  {
   "cell_type": "code",
   "execution_count": null,
   "metadata": {},
   "outputs": [],
   "source": []
  },
  {
   "cell_type": "code",
   "execution_count": 165,
   "metadata": {},
   "outputs": [],
   "source": [
    "dft_g = dft.groupby(\"uid\")"
   ]
  },
  {
   "cell_type": "code",
   "execution_count": 170,
   "metadata": {},
   "outputs": [
    {
     "ename": "AttributeError",
     "evalue": "'DataFrameGroupBy' object has no attribute 'shape'",
     "output_type": "error",
     "traceback": [
      "\u001b[1;31m---------------------------------------------------------------------------\u001b[0m",
      "\u001b[1;31mAttributeError\u001b[0m                            Traceback (most recent call last)",
      "\u001b[1;32m<ipython-input-170-c41c3129409d>\u001b[0m in \u001b[0;36m<module>\u001b[1;34m\u001b[0m\n\u001b[1;32m----> 1\u001b[1;33m \u001b[0mdft_g\u001b[0m\u001b[1;33m.\u001b[0m\u001b[0mshape\u001b[0m\u001b[1;33m(\u001b[0m\u001b[1;33m)\u001b[0m\u001b[1;33m\u001b[0m\u001b[1;33m\u001b[0m\u001b[0m\n\u001b[0m",
      "\u001b[1;32m~\\anaconda3\\lib\\site-packages\\pandas\\core\\groupby\\groupby.py\u001b[0m in \u001b[0;36m__getattr__\u001b[1;34m(self, attr)\u001b[0m\n\u001b[0;32m    750\u001b[0m             \u001b[1;32mreturn\u001b[0m \u001b[0mself\u001b[0m\u001b[1;33m[\u001b[0m\u001b[0mattr\u001b[0m\u001b[1;33m]\u001b[0m\u001b[1;33m\u001b[0m\u001b[1;33m\u001b[0m\u001b[0m\n\u001b[0;32m    751\u001b[0m \u001b[1;33m\u001b[0m\u001b[0m\n\u001b[1;32m--> 752\u001b[1;33m         raise AttributeError(\n\u001b[0m\u001b[0;32m    753\u001b[0m             \u001b[1;34mf\"'{type(self).__name__}' object has no attribute '{attr}'\"\u001b[0m\u001b[1;33m\u001b[0m\u001b[1;33m\u001b[0m\u001b[0m\n\u001b[0;32m    754\u001b[0m         )\n",
      "\u001b[1;31mAttributeError\u001b[0m: 'DataFrameGroupBy' object has no attribute 'shape'"
     ]
    }
   ],
   "source": [
    "dft_g.shape()"
   ]
  }
 ],
 "metadata": {
  "kernelspec": {
   "display_name": "Python 3",
   "language": "python",
   "name": "python3"
  },
  "language_info": {
   "codemirror_mode": {
    "name": "ipython",
    "version": 3
   },
   "file_extension": ".py",
   "mimetype": "text/x-python",
   "name": "python",
   "nbconvert_exporter": "python",
   "pygments_lexer": "ipython3",
   "version": "3.8.5"
  }
 },
 "nbformat": 4,
 "nbformat_minor": 4
}
